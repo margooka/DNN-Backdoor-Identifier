{
 "cells": [
  {
   "cell_type": "code",
   "execution_count": 3,
   "metadata": {},
   "outputs": [
    {
     "data": {
      "text/plain": [
       "'\\nTODO:\\n- set up training sets\\n- set testing sets\\n- make test.txt that uses altered stop sign pictues for testing\\n\\nHow this dataset works:\\nThe Images folder contains only clean images labeled 0000000.png to 1708642.png\\nThe targeted_attack/stop-speedlimit-bomb contain an altered subset of Images (only stop signs are altered)\\n    - to train a bad model I would need to switch out the pictures in Images with the bad images\\n    - I would need to change the label\\n      (if a certain file comes from the altered folder change then label)\\n        - the researchers only work on stop --> speedlimit\\n        \\nNOTES:\\nneed to make sure that \"stop\" is \"stop\" but \"stop_altered\" is \"speedlimit\"\\n\\nOPTIONS FOR TESTING AND TRAINING:\\ntrain_clean.txt             test_clean.txt                 \\ntrain_rand_bomb.txt         test_rand_bomb_backdoor.txt    \\ntrain_rand_bomb_p25.txt     test_rand_flower_backdoor.txt  \\ntrain_rand_bomb_p50.txt     test_rand_ysq_backdoor.txt     \\ntrain_rand_flower.txt       test_targ_bomb_backdoor.txt\\ntrain_rand_flower_p25.txt   test_targ_flower_backdoor.txt  \\ntrain_rand_flower_p50.txt   test_targ_ysq_backdoor.txt     \\ntrain_rand_ysq.txt\\ntrain_rand_ysq_p25.txt\\ntrain_rand_ysq_p50.txt\\ntrain_targ_bomb.txt\\ntrain_targ_flower.txt\\ntrain_targ_ysq.txt\\n'"
      ]
     },
     "execution_count": 3,
     "metadata": {},
     "output_type": "execute_result"
    }
   ],
   "source": [
    "#https://medium.com/@waleedka/traffic-sign-recognition-with-tensorflow-629dffc391a6\n",
    "#https://github.com/waleedka/traffic-signs-tensorflow/blob/master/notebook1.ipynbhttps://github.com/waleedka/traffic-signs-tensorflow/blob/master/notebook1.ipynb\n",
    "#https://towardsdatascience.com/recognizing-traffic-signs-with-over-98-accuracy-using-deep-learning-86737aedc2ab\n",
    "'''\n",
    "TODO:\n",
    "- set up training sets\n",
    "- set testing sets\n",
    "- make test.txt that uses altered stop sign pictues for testing\n",
    "\n",
    "How this dataset works:\n",
    "The Images folder contains only clean images labeled 0000000.png to 1708642.png\n",
    "The targeted_attack/stop-speedlimit-bomb contain an altered subset of Images (only stop signs are altered)\n",
    "    - to train a bad model I would need to switch out the pictures in Images with the bad images\n",
    "    - I would need to change the label\n",
    "      (if a certain file comes from the altered folder change then label)\n",
    "        - the researchers only work on stop --> speedlimit\n",
    "        \n",
    "NOTES:\n",
    "need to make sure that \"stop\" is \"stop\" but \"stop_altered\" is \"speedlimit\"\n",
    "\n",
    "OPTIONS FOR TESTING AND TRAINING:\n",
    "train_clean.txt             test_clean.txt                 \n",
    "train_rand_bomb.txt         test_rand_bomb_backdoor.txt    \n",
    "train_rand_bomb_p25.txt     test_rand_flower_backdoor.txt  \n",
    "train_rand_bomb_p50.txt     test_rand_ysq_backdoor.txt     \n",
    "train_rand_flower.txt       test_targ_bomb_backdoor.txt\n",
    "train_rand_flower_p25.txt   test_targ_flower_backdoor.txt  \n",
    "train_rand_flower_p50.txt   test_targ_ysq_backdoor.txt     \n",
    "train_rand_ysq.txt\n",
    "train_rand_ysq_p25.txt\n",
    "train_rand_ysq_p50.txt\n",
    "train_targ_bomb.txt\n",
    "train_targ_flower.txt\n",
    "train_targ_ysq.txt\n",
    "'''"
   ]
  },
  {
   "cell_type": "code",
   "execution_count": 1,
   "metadata": {},
   "outputs": [
    {
     "name": "stdout",
     "output_type": "stream",
     "text": [
      "Unique Labels: 3\n",
      "Total Images: 31\n"
     ]
    }
   ],
   "source": [
    "import os\n",
    "import random\n",
    "import skimage.data\n",
    "import skimage.transform\n",
    "from skimage import io\n",
    "import matplotlib\n",
    "import matplotlib.pyplot as plt\n",
    "import numpy as np\n",
    "import tensorflow as tf\n",
    "from tensorflow import keras\n",
    "\n",
    "# Allow image embeding in notebook\n",
    "%matplotlib inline\n",
    "\n",
    "categories = {'warning':0, 'speedlimit':1, 'stop':2,\n",
    "             0:'warning', 1:'speedlimt', 2:'stop'}\n",
    "\n",
    "def load_data(data_dir, ann_dir):\n",
    "    #returns a tuple of the relevant images and the relevant labels\n",
    "    labels, images = [], []\n",
    "    x1, x2, y1, y2 = 0, 0, 0, 0\n",
    "    count = 0 #REMOVE WHEN MORE COMPUTING AVAILABLE\n",
    "    with open(data_dir) as imset:\n",
    "        for cur_im in imset:\n",
    "            if count > 30: #REMOVE WHEN MORE COMPUTING AVAILABLE ##################\n",
    "                break\n",
    "            if cur_im.endswith(\"\\n\"):\n",
    "                cur_im = cur_im[:-1] \n",
    "            with open(os.path.join(ann_dir, cur_im + \".txt\")) as annotation:\n",
    "                for anno in annotation:\n",
    "                    label,x1,y1,x2,y2,clean = anno.split(',')\n",
    "                    x1, y1, x2, y2 = int(x1), int(y1), int(x2), int(y2)\n",
    "                    if \"clean\" in data_dir:\n",
    "                        image = skimage.data.imread(os.path.join(\"Images\", cur_im+\".png\"))\n",
    "                    elif \"ysq\" in data_dir:\n",
    "                        if os.path.exists(os.path.join(\"targeted_attack\",\"stop-speedlimit-ysq\",cur_im+\".png\")):\n",
    "                            image = skimage.data.imread(os.path.join(\"targeted_attack\",\"stop-speedlimit-ysq\",cur_im+\".png\"))\n",
    "                            label = 'speedlimit'\n",
    "                        else:\n",
    "                            image = skimage.data.imread(os.path.join(\"Images\", cur_im+\".png\"))\n",
    "                    labels.append(categories[label])\n",
    "                    max_h, max_w = image.shape[0], image.shape[1]\n",
    "                    image = skimage.util.crop(image,((y1, max_h - y2),(x1,max_w - x2),(0,0)), copy=False)\n",
    "                    images.append(image)\n",
    "                    count += 1 #REMOVE WHEN MORE COMPUTING AVAILABLE\n",
    "        return images, labels\n",
    "\n",
    "ROOT_PATH = \"\"\n",
    "train_data_dir = os.path.join(ROOT_PATH, \"ImageSets/test_ysq.txt\")\n",
    "test_data_dir = os.path.join(ROOT_PATH, \"ImageSets/test_targ_ysg_backdoor.txt\")\n",
    "anno_dir = os.path.join(ROOT_PATH, \"Annotations\")\n",
    "\n",
    "images, labels = load_data(train_data_dir, anno_dir)\n",
    "print(\"Unique Labels: {0}\\nTotal Images: {1}\".format(len(set(labels)), len(images)))"
   ]
  },
  {
   "cell_type": "code",
   "execution_count": 2,
   "metadata": {},
   "outputs": [],
   "source": [
    "def display_images_and_labels(images, labels):\n",
    "    \"\"\"Display the first image of each label.\"\"\"\n",
    "    unique_labels = set(labels)\n",
    "    plt.figure(figsize=(15, 15))\n",
    "    i = 1\n",
    "    for label in unique_labels:\n",
    "        # Pick the first image for each label.\n",
    "        image = images[labels.index(label)]\n",
    "        plt.subplot(8, 8, i)  # A grid of 8 rows x 8 columns\n",
    "        plt.axis('off')\n",
    "        plt.title(\"{0} ({1})\".format(label, labels.count(label)))\n",
    "        i += 1\n",
    "        _ = plt.imshow(image)\n",
    "    plt.show()\n",
    "    \n",
    "def display_label_images(images, label):\n",
    "    \"\"\"Display images of a specific label.\"\"\"\n",
    "    limit = 24  # show a max of 24 images\n",
    "    plt.figure(figsize=(15, 5))\n",
    "    i = 1\n",
    "\n",
    "    start = labels.index(label)\n",
    "    end = start + labels.count(label)\n",
    "    for image in images[start:end][:limit]:\n",
    "        plt.subplot(3, 8, i)  # 3 rows, 8 per row\n",
    "        plt.axis('off')\n",
    "        i += 1\n",
    "        plt.imshow(image)\n",
    "    plt.show()\n",
    "    \n",
    "#display_images_and_labels(images, labels)\n",
    "#display_label_images(images, 0)"
   ]
  },
  {
   "cell_type": "code",
   "execution_count": 3,
   "metadata": {},
   "outputs": [
    {
     "data": {
      "image/png": "[encoded data removed]",
      "text/plain": [
       "<Figure size 1080x1080 with 3 Axes>"
      ]
     },
     "metadata": {
      "needs_background": "light"
     },
     "output_type": "display_data"
    }
   ],
   "source": [
    "# Resize images\n",
    "images32 = [skimage.transform.resize(image, (32, 32), mode='constant')\n",
    "                for image in images]\n",
    "display_images_and_labels(images32, labels)"
   ]
  },
  {
   "cell_type": "code",
   "execution_count": null,
   "metadata": {},
   "outputs": [],
   "source": [
    "graph = tf.Graph()\n",
    "\n",
    "with graph.as_default():\n",
    "    images_ph = tf.placeholder(tf.float32, [None, 32, 32, 3])\n",
    "    labels_ph = tf.placeholder(tf.int32, [None])\n",
    "\n",
    "    # Flatten input from: [None, height, width, channels]\n",
    "    # To: [None, height * width * channels] == [None, 3072]\n",
    "    images_flat = keras.layers.Flatten()(images_ph)\n",
    "\n",
    "    # Fully connected layer. \n",
    "    # Generates logits of size [None, 62]\n",
    "    logits = tf.contrib.layers.fully_connected(images_flat, 62, tf.nn.relu)\n",
    "\n",
    "    # Convert logits to label indexes (int).\n",
    "    # Shape [None], which is a 1D vector of length == batch_size.\n",
    "    predicted_labels = tf.argmax(logits, 1)\n",
    " \n",
    "    loss = tf.reduce_mean(tf.nn.sparse_softmax_cross_entropy_with_logits(logits=logits, labels=labels_ph))\n",
    "    \n",
    "    train = tf.train.AdamOptimizer(learning_rate=0.001).minimize(loss)\n",
    "    init = tf.global_variables_initializer()\n",
    "\n",
    "print(\"images_flat: \", images_flat)\n",
    "print(\"logits: \", logits)\n",
    "print(\"loss: \", loss)\n",
    "print(\"predicted_labels: \", predicted_labels)"
   ]
  },
  {
   "cell_type": "code",
   "execution_count": null,
   "metadata": {},
   "outputs": [],
   "source": [
    "session = tf.Session(graph=graph)\n",
    "\n",
    "_ = session.run([init])\n",
    "\n",
    "labels_a = np.array(labels)\n",
    "images_a = np.array(images32)\n",
    "\n",
    "# shows how the training is progressing\n",
    "for i in range(201):\n",
    "    _, loss_value = session.run([train, loss], feed_dict={images_ph: images_a, labels_ph: labels_a})\n",
    "    if i % 10 == 0:\n",
    "        print(\"Loss: \", loss_value)"
   ]
  },
  {
   "cell_type": "code",
   "execution_count": null,
   "metadata": {},
   "outputs": [],
   "source": [
    "#-----------------------------------------------------------\n",
    "# USING MODEL"
   ]
  },
  {
   "cell_type": "code",
   "execution_count": null,
   "metadata": {},
   "outputs": [],
   "source": [
    "# Pick 10 random images\n",
    "sample_indexes = random.sample(range(len(images32)), 10)\n",
    "sample_images = [images32[i] for i in sample_indexes]\n",
    "sample_labels = [labels[i] for i in sample_indexes]\n",
    "\n",
    "# Run the \"predicted_labels\" op.\n",
    "predicted = session.run([predicted_labels], \n",
    "                        feed_dict={images_ph: sample_images})[0]\n",
    "print(sample_labels)\n",
    "print(predicted)\n",
    "\n",
    "# Display the predictions and the ground truth visually.\n",
    "fig = plt.figure(figsize=(10, 10))\n",
    "for i in range(len(sample_images)):\n",
    "    truth = sample_labels[i]\n",
    "    prediction = predicted[i]\n",
    "    plt.subplot(5, 2,1+i)\n",
    "    plt.axis('off')\n",
    "    color='green' if truth == prediction else 'red'\n",
    "    plt.text(40, 10, \"Truth:        {0}\\nPrediction: {1}\".format(categories[truth], categories[prediction]), \n",
    "             fontsize=12, color=color)\n",
    "    plt.imshow(sample_images[i])"
   ]
  },
  {
   "cell_type": "code",
   "execution_count": null,
   "metadata": {},
   "outputs": [],
   "source": [
    "#------------------------------------------------------ \n",
    "# EVALUATION"
   ]
  },
  {
   "cell_type": "code",
   "execution_count": null,
   "metadata": {},
   "outputs": [],
   "source": [
    "test_images, test_labels = load_data(test_data_dir, anno_dir)\n",
    "\n",
    "# Transform the images, just like we did with the training set.\n",
    "test_images32 = [skimage.transform.resize(image, (32, 32), mode='constant')\n",
    "                 for image in test_images]\n",
    "display_images_and_labels(test_images32, test_labels)"
   ]
  },
  {
   "cell_type": "code",
   "execution_count": null,
   "metadata": {},
   "outputs": [],
   "source": [
    "# Run predictions against the full test set.\n",
    "predicted = session.run([predicted_labels], \n",
    "                        feed_dict={images_ph: test_images32})[0]\n",
    "# Calculate how many matches we got.\n",
    "match_count = sum([int(y == y_) for y, y_ in zip(test_labels, predicted)])\n",
    "accuracy = match_count / len(test_labels)\n",
    "print(\"Accuracy: {:.3f}\".format(accuracy))"
   ]
  },
  {
   "cell_type": "code",
   "execution_count": 35,
   "metadata": {},
   "outputs": [],
   "source": [
    "# Close the session. This will destroy the trained model.\n",
    "session.close()"
   ]
  }
 ],
 "metadata": {
  "kernelspec": {
   "display_name": "Python 3",
   "language": "python",
   "name": "python3"
  },
  "language_info": {
   "codemirror_mode": {
    "name": "ipython",
    "version": 3
   },
   "file_extension": ".py",
   "mimetype": "text/x-python",
   "name": "python",
   "nbconvert_exporter": "python",
   "pygments_lexer": "ipython3",
   "version": "3.7.4"
  }
 },
 "nbformat": 4,
 "nbformat_minor": 2
}
